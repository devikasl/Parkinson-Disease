{
 "cells": [
  {
   "cell_type": "code",
   "execution_count": 1,
   "id": "72db750f-2ee4-480d-8d5b-9ab890b60ade",
   "metadata": {},
   "outputs": [],
   "source": [
    "import pandas as pd\n",
    "import zipfile\n",
    "import io\n",
    "import os\n",
    "import numpy as np\n",
    "from PIL import Image\n",
    "import matplotlib.pyplot as plt"
   ]
  },
  {
   "cell_type": "code",
   "execution_count": 2,
   "id": "53c3a7a9-64ad-4347-9d53-89d07852ae19",
   "metadata": {},
   "outputs": [
    {
     "name": "stdout",
     "output_type": "stream",
     "text": [
      "WARNING:tensorflow:From C:\\Users\\91859\\AppData\\Local\\Programs\\Python\\Python311\\Lib\\site-packages\\keras\\src\\losses.py:2976: The name tf.losses.sparse_softmax_cross_entropy is deprecated. Please use tf.compat.v1.losses.sparse_softmax_cross_entropy instead.\n",
      "\n"
     ]
    }
   ],
   "source": [
    "from PIL import Image\n",
    "import tensorflow as tf\n",
    "import os\n",
    "import numpy as np\n",
    "from sklearn.model_selection import train_test_split\n",
    "from keras.utils import to_categorical\n",
    "from tensorflow.keras import layers, models"
   ]
  },
  {
   "cell_type": "code",
   "execution_count": 4,
   "id": "272b5c76-29ff-475b-b70a-ab856c6c10f1",
   "metadata": {},
   "outputs": [],
   "source": [
    "from keras.preprocessing.image import ImageDataGenerator\n",
    "train_datagen=ImageDataGenerator(rescale=1./255,\n",
    "                                 shear_range=0.2,\n",
    "                                 zoom_range=0.2,\n",
    "                                 horizontal_flip=True)\n",
    "test_datagen=ImageDataGenerator(rescale=1./255)"
   ]
  },
  {
   "cell_type": "code",
   "execution_count": 7,
   "id": "58211146-af92-4a52-bcb1-1d3888ceb1d5",
   "metadata": {},
   "outputs": [
    {
     "name": "stdout",
     "output_type": "stream",
     "text": [
      "Found 72 images belonging to 2 classes.\n",
      "Found 30 images belonging to 2 classes.\n"
     ]
    }
   ],
   "source": [
    "spiral_train_generator=train_datagen.flow_from_directory(r'C:\\Users\\91859\\Desktop\\parkinson\\p disease\\spiral\\training',\n",
    "                                                         target_size=(128,128),\n",
    "                                                         batch_size=32,\n",
    "                                                         class_mode='binary')\n",
    "spiral_test_generator=test_datagen.flow_from_directory(r'C:\\Users\\91859\\Desktop\\parkinson\\p disease\\spiral\\testing',\n",
    "                                                       target_size=(128,128),\n",
    "                                                       batch_size=32,\n",
    "                                                       class_mode='binary')\n",
    "                                                       "
   ]
  },
  {
   "cell_type": "code",
   "execution_count": 8,
   "id": "314b8f44-56b3-4d37-bc61-a5049f55264e",
   "metadata": {},
   "outputs": [
    {
     "name": "stdout",
     "output_type": "stream",
     "text": [
      "Found 72 images belonging to 2 classes.\n",
      "Found 30 images belonging to 2 classes.\n"
     ]
    }
   ],
   "source": [
    "wave_train_generator=train_datagen.flow_from_directory(r'C:\\Users\\91859\\Desktop\\parkinson\\p disease\\wave\\training',\n",
    "                                                       target_size=(128,128),\n",
    "                                                       batch_size=32,\n",
    "                                                       class_mode='binary')\n",
    "\n",
    "wave_test_generator=test_datagen.flow_from_directory(r'C:\\Users\\91859\\Desktop\\parkinson\\p disease\\wave\\testing',\n",
    "                                                     target_size=(128,128),\n",
    "                                                     batch_size=32,\n",
    "                                                     class_mode='binary')"
   ]
  },
  {
   "cell_type": "code",
   "execution_count": 20,
   "id": "cd1ec953-7511-419b-a210-f34c388dab3d",
   "metadata": {},
   "outputs": [],
   "source": [
    "from keras.models import Sequential\n",
    "from keras.layers import Conv2D, MaxPooling2D, Flatten,Dense\n"
   ]
  },
  {
   "cell_type": "code",
   "execution_count": 21,
   "id": "8fb5c335-a836-401e-8734-9f2fbbeb8b87",
   "metadata": {},
   "outputs": [],
   "source": [
    "Classifier=Sequential()\n",
    "Classifier.add(Conv2D(32,(3,3),input_shape=(128,128,3),activation='relu'))\n",
    "Classifier.add(MaxPooling2D(pool_size=(2,2)))\n"
   ]
  },
  {
   "cell_type": "code",
   "execution_count": null,
   "id": "a28a2cc2-da00-447e-b19e-ba1ffac3a3a7",
   "metadata": {},
   "outputs": [],
   "source": []
  }
 ],
 "metadata": {
  "kernelspec": {
   "display_name": "Python 3 (ipykernel)",
   "language": "python",
   "name": "python3"
  },
  "language_info": {
   "codemirror_mode": {
    "name": "ipython",
    "version": 3
   },
   "file_extension": ".py",
   "mimetype": "text/x-python",
   "name": "python",
   "nbconvert_exporter": "python",
   "pygments_lexer": "ipython3",
   "version": "3.11.2"
  }
 },
 "nbformat": 4,
 "nbformat_minor": 5
}
